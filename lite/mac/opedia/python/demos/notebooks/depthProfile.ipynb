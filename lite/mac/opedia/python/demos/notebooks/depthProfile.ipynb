{
 "cells": [
  {
   "cell_type": "markdown",
   "metadata": {},
   "source": [
    "# BioGeoChemical Model (Mercator-Pisces)"
   ]
  },
  {
   "cell_type": "code",
   "execution_count": 7,
   "metadata": {
    "collapsed": false
   },
   "outputs": [
    {
     "data": {
      "image/png": "[encoded data removed]",
      "text/plain": [
       "<matplotlib.figure.Figure at 0xd820240>"
      ]
     },
     "metadata": {},
     "output_type": "display_data"
    }
   ],
   "source": [
    "import sys\n",
    "sys.path.append('../../')\n",
    "import db\n",
    "import numpy as np\n",
    "import pandas as pd\n",
    "import matplotlib.pyplot as plt\n",
    "%matplotlib inline\n",
    "\n",
    "def plot(z, y, y_std):\n",
    "    plt.plot(z, y)\n",
    "    plt.title(('depth profile (%s) \\n' + dt) % field)\n",
    "    plt.xlabel('depth (m)')\n",
    "    plt.show()\n",
    "\n",
    "\n",
    "\n",
    "############# set parameters ###############\n",
    "table = 'tblPisces_NRT'\n",
    "field = 'CHL'   # Chlorophyll concentration - Mean of the binned pixels\n",
    "#field = 'Si'    # Mole concentration of Silicalte\n",
    "#field = 'PHYC'  # Mole concentration of phytoplankton as carbon \n",
    "#field = 'PP'    # Net primary productivity of Carbon per unite volume \n",
    "#field = 'O2'    # Mole concentration of dissolved Oxygen\n",
    "#field = 'PO4'   # Mole concentration of Phosphate \n",
    "#field = 'NO3'   # Mole concentration of dissolved Nitrate  \n",
    "#field = 'Fe'    # Mole concentration of dissolved Iron \n",
    "dt = '2017-06-03'\n",
    "lat1, lat2, lon1, lon2 = 10, 55, -180, -100  \n",
    "############################################\n",
    "\n",
    "\n",
    "\n",
    "\n",
    "\n",
    "####################################################################################################### \n",
    "levels = [0.494024991989, 1.54137504101, 2.64566898346, 3.81949496269, 5.07822418213, 6.44061422348, 7.92956018448, 9.5729970932, 11.404999733, 13.4671401978, 15.8100700378, 18.4955596924, 21.5988197327, 25.2114105225, 29.4447307587, 34.4341506958, 40.3440513611, 47.3736915588, 55.764289856, 65.8072662354, 77.8538513184, 92.3260726929, 109.729301453, 130.666000366, 155.850692749, 186.125595093, 222.475204468, 266.040313721, 318.127410889, 380.213012695, 453.937713623, 541.088928223, 643.566772461, 763.333129883, 902.339294434, 1062.43994141, 1245.29101562, 1452.25097656, 1684.28405762, 1941.89294434, 2225.07788086, 2533.3359375, 2865.70288086, 3220.82006836, 3597.03198242, 3992.48388672, 4405.22412109, 4833.29101562, 5274.78417969, 5727.91699219]\n",
    "y = np.array([])\n",
    "y_std = np.array([])\n",
    "for depth in levels:\n",
    "    query = 'EXEC uspDepthProfile ?, ?, ?, ?, ?, ?, ?, ?'\n",
    "    args = [table, field, dt, str(lat1), str(lat2), str(lon1), str(lon2), str(depth)]        \n",
    "    df = db.dbFetchStoredProc(query, args)\n",
    "    df = pd.DataFrame.from_records(df, columns=['lat', 'lon', 'depth', field])\n",
    "    try:\n",
    "        if len(df[field]) > 0:                \n",
    "            tempY = np.nanmean(df[field])\n",
    "        else:\n",
    "            tempY = np.nan\n",
    "    except:\n",
    "        tempY = np.nan   \n",
    "    if abs(tempY) > 1e30:       ## remove outliers (extremes)\n",
    "        tempY = np.nan           \n",
    "    y = np.append(y, tempY)\n",
    "    try:\n",
    "        if len(df[field]) > 0:\n",
    "            tempY_std = np.nanstd(df[field])\n",
    "        else:\n",
    "            tempY_std = np.nan\n",
    "    except:\n",
    "        tempY_std = np.nan        \n",
    "    if abs(tempY_std) > 1e30:       ## remove outliers (extremes)\n",
    "        tempY_std = np.nan   \n",
    "    y_std = np.append(y_std, tempY_std)\n",
    "plot(levels, y, y_std)\n",
    "####################################################################################################### \n",
    "    "
   ]
  }
 ],
 "metadata": {
  "kernelspec": {
   "display_name": "Python 2",
   "language": "python",
   "name": "python2"
  },
  "language_info": {
   "codemirror_mode": {
    "name": "ipython",
    "version": 2
   },
   "file_extension": ".py",
   "mimetype": "text/x-python",
   "name": "python",
   "nbconvert_exporter": "python",
   "pygments_lexer": "ipython2",
   "version": "2.7.13"
  }
 },
 "nbformat": 4,
 "nbformat_minor": 0
}
