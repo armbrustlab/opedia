{
 "cells": [
  {
   "cell_type": "markdown",
   "metadata": {},
   "source": [
    "\n",
    "# Along Track Pro. & Syn. & Pic."
   ]
  },
  {
   "cell_type": "code",
   "execution_count": null,
   "metadata": {
    "collapsed": false
   },
   "outputs": [],
   "source": [
    "\n",
    "\n",
    "################### matching more than one variable with cruise track ###################\n",
    "script = ' ../../plotCruise.py'     # path to plotCruise.py script\n",
    "expedition = ' 1'                   # fixed, keep it!  (1: expedition, 0: virtual cruise)\n",
    "command = ' 2'                      # fixed, keep it!\n",
    "source = ' tblSeaFlow'              # fixed, keep it!\n",
    "cruise = ' SCOPE_16'                # cruise name: Gradients1.0\n",
    "#cruise = ' Gradients2.0'            # cruise name: Gradients2.0\n",
    "#cruise = ' SCOPE_6'                 # cruise name: Lagrangien/Diel\n",
    "resample = ' H'                     # resample rate (H: hourly, 2H: 2hours period ..., 10T: 10 minute, D: daily)\n",
    "fname = ' AlongTrack'               # plot filename (.html)\n",
    "exportData = ' 1'                   # export data in csv format (1/0: yes/no)\n",
    "spatialMargin = ' 0.5'              # matching margin (in degrees)\n",
    "matchTable = ' tblSeaFlow,tblSeaFlow,tblSeaFlow'    # matching table name\n",
    "matchVar = ' prochloro,synecho,picoeuk'                   # matching var name\n",
    "extVar = ' ignore,ignore,ignore'                  # extra variable name ('hour' or 'depth', usually used for model outputs)\n",
    "extVarValue = ' ignore,ignore,ignore'             # extra variable value (usually used for model outputs)   \n",
    "extVar2 = ' ignore,ignore,ignore'                 # extra variable name ('hour' or 'depth', usually used for model outputs)\n",
    "extVarValue2 = ' ignore,ignore,ignore'            # extra variable value (usually used for model outputs) \n",
    "#########################################################################################\n",
    "\n",
    "\n",
    "\n",
    "import os\n",
    "cmd = 'python' + script + expedition + command + source + cruise \\\n",
    "      + resample + fname + exportData + spatialMargin + matchTable \\\n",
    "      + matchVar + extVar + extVarValue + extVar2 + extVarValue2\n",
    "os.system(cmd)\n"
   ]
  },
  {
   "cell_type": "markdown",
   "metadata": {},
   "source": [
    "# Along Track SLA & SST"
   ]
  },
  {
   "cell_type": "code",
   "execution_count": null,
   "metadata": {
    "collapsed": false
   },
   "outputs": [],
   "source": [
    "\n",
    "\n",
    "################### matching more than one variable with cruise track ###################\n",
    "script = ' ../../plotCruise.py'     # path to plotCruise.py script\n",
    "expedition = ' 1'                   # fixed, keep it!  (1: expedition, 0: virtual cruise)\n",
    "command = ' 2'                      # fixed, keep it!\n",
    "source = ' tblSeaFlow'              # fixed, keep it!\n",
    "cruise = ' SCOPE_16'                # cruise name\n",
    "resample = ' H'                     # resample rate (H: hourly, 2H: 2hours period ..., 10T: 10 minute, D: daily)\n",
    "fname = ' AlongTrack'               # plot filename (.html)\n",
    "exportData = ' 1'                   # export data in csv format (1/0: yes/no)\n",
    "spatialMargin = ' 0.5'              # matching margin (in degrees)\n",
    "matchTable = ' tblAltimetry_REP,tblSST_AVHRR_OI_NRT'    # matching table name\n",
    "matchVar = ' sla,sst'                   # matching var name\n",
    "extVar = ' ignore,ignore'                  # extra variable name ('hour' or 'depth', usually used for model outputs)\n",
    "extVarValue = ' ignore,ignore'             # extra variable value (usually used for model outputs)   \n",
    "extVar2 = ' ignore,ignore'                 # extra variable name ('hour' or 'depth', usually used for model outputs)\n",
    "extVarValue2 = ' ignore,ignore'            # extra variable value (usually used for model outputs) \n",
    "#########################################################################################\n",
    "\n",
    "\n",
    "\n",
    "import os\n",
    "cmd = 'python' + script + expedition + command + source + cruise \\\n",
    "      + resample + fname + exportData + spatialMargin + matchTable \\\n",
    "      + matchVar + extVar + extVarValue + extVar2 + extVarValue2\n",
    "os.system(cmd)\n"
   ]
  },
  {
   "cell_type": "markdown",
   "metadata": {},
   "source": [
    "# Along Track Flow Field (u & v)"
   ]
  },
  {
   "cell_type": "code",
   "execution_count": null,
   "metadata": {
    "collapsed": false
   },
   "outputs": [],
   "source": [
    "\n",
    "\n",
    "################### matching more than one variable with cruise track ###################\n",
    "script = ' ../../plotCruise.py'     # path to plotCruise.py script\n",
    "expedition = ' 1'                   # fixed, keep it!  (1: expedition, 0: virtual cruise)\n",
    "command = ' 2'                      # fixed, keep it!\n",
    "source = ' tblSeaFlow'              # fixed, keep it!\n",
    "cruise = ' SCOPE_16'                # cruise name: Gradients1.0\n",
    "#cruise = ' Gradients2.0'            # cruise name: Gradients2.0\n",
    "#cruise = ' SCOPE_6'                 # cruise name: Lagrangien/Diel\n",
    "resample = ' H'                     # resample rate (H: hourly, 2H: 2hours period ..., 10T: 10 minute, D: daily)\n",
    "fname = ' AlongTrack'               # plot filename (.html)\n",
    "exportData = ' 1'                   # export data in csv format (1/0: yes/no)\n",
    "spatialMargin = ' 0.5'              # matching margin (in degrees)\n",
    "matchTable = ' tblAltimetry_REP,tblAltimetry_REP'    # matching table name\n",
    "matchVar = ' ugos,vgos'                   # matching var name\n",
    "extVar = ' ignore,ignore'                  # extra variable name ('hour' or 'depth', usually used for model outputs)\n",
    "extVarValue = ' ignore,ignore'             # extra variable value (usually used for model outputs)   \n",
    "extVar2 = ' ignore,ignore'                 # extra variable name ('hour' or 'depth', usually used for model outputs)\n",
    "extVarValue2 = ' ignore,ignore'            # extra variable value (usually used for model outputs) \n",
    "#########################################################################################\n",
    "\n",
    "\n",
    "\n",
    "import os\n",
    "cmd = 'python' + script + expedition + command + source + cruise \\\n",
    "      + resample + fname + exportData + spatialMargin + matchTable \\\n",
    "      + matchVar + extVar + extVarValue + extVar2 + extVarValue2\n",
    "os.system(cmd)\n"
   ]
  },
  {
   "cell_type": "markdown",
   "metadata": {},
   "source": [
    "# Along Track NO3 & Fe (Model)"
   ]
  },
  {
   "cell_type": "code",
   "execution_count": null,
   "metadata": {
    "collapsed": true
   },
   "outputs": [],
   "source": [
    "\n",
    "\n",
    "################### matching more than one variable with cruise track ###################\n",
    "script = ' ../../plotCruise.py'     # path to plotCruise.py script\n",
    "expedition = ' 1'                   # fixed, keep it!  (1: expedition, 0: virtual cruise)\n",
    "command = ' 2'                      # fixed, keep it!\n",
    "source = ' tblSeaFlow'              # fixed, keep it!\n",
    "cruise = ' SCOPE_16'                # cruise name\n",
    "resample = ' H'                     # resample rate (H: hourly, 2H: 2hours period ..., 10T: 10 minute, D: daily)\n",
    "fname = ' AlongTrack'               # plot filename (.html)\n",
    "exportData = ' 1'                   # export data in csv format (1/0: yes/no)\n",
    "spatialMargin = ' 0.5'              # matching margin (in degrees)\n",
    "matchTable = ' tblPisces_NRT,tblPisces_NRT'    # matching table name\n",
    "matchVar = ' NO3,Fe'                   # matching var name\n",
    "extVar = ' depth,depth'                  # extra variable name ('hour' or 'depth', usually used for model outputs)\n",
    "extVarValue = ' 0.494024991989,0.494024991989'             # extra variable value (usually used for model outputs)   \n",
    "extVar2 = ' ignore,ignore'                 # extra variable name ('hour' or 'depth', usually used for model outputs)\n",
    "extVarValue2 = ' ignore,ignore'            # extra variable value (usually used for model outputs) \n",
    "#########################################################################################\n",
    "\n",
    "\n",
    "\n",
    "import os\n",
    "cmd = 'python' + script + expedition + command + source + cruise \\\n",
    "      + resample + fname + exportData + spatialMargin + matchTable \\\n",
    "      + matchVar + extVar + extVarValue + extVar2 + extVarValue2\n",
    "os.system(cmd)\n"
   ]
  }
 ],
 "metadata": {
  "kernelspec": {
   "display_name": "Python 2",
   "language": "python",
   "name": "python2"
  },
  "language_info": {
   "codemirror_mode": {
    "name": "ipython",
    "version": 2
   },
   "file_extension": ".py",
   "mimetype": "text/x-python",
   "name": "python",
   "nbconvert_exporter": "python",
   "pygments_lexer": "ipython2",
   "version": "2.7.13"
  }
 },
 "nbformat": 4,
 "nbformat_minor": 0
}
