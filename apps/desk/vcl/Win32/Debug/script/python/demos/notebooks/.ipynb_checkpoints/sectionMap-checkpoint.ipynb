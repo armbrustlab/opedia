{
 "cells": [
  {
   "cell_type": "markdown",
   "metadata": {},
   "source": [
    "# BioGeoChemical Model (Mercator-Pisces)"
   ]
  },
  {
   "cell_type": "code",
   "execution_count": null,
   "metadata": {
    "collapsed": false
   },
   "outputs": [],
   "source": [
    "\n",
    "\n",
    "################### parameters to plot section map for a single variable ###################\n",
    "script = ' ../../plotSection.py'     # path to plotSection.py script\n",
    "tables = ' tblPisces_NRT'\n",
    "#fields = ' CHL'   # Chlorophyll concentration - Mean of the binned pixels\n",
    "#fields = ' Si'    # Mole concentration of Silicalte\n",
    "#fields = ' PHYC'  # Mole concentration of phytoplankton as carbon \n",
    "#fields = ' PP'    # Net primary productivity of Carbon per unite volume \n",
    "#fields = ' O2'    # Mole concentration of dissolved Oxygen\n",
    "#fields = ' PO4'   # Mole concentration of Phosphate \n",
    "#fields = ' NO3'   # Mole concentration of dissolved Nitrate  \n",
    "fields = ' Fe'    # Mole concentration of dissolved Iron \n",
    "startDate = ' 2017-06-03'\n",
    "lat1, lat2, lon1, lon2 = ' 22.57', ' 44.47', ' -158.3', ' -157.4' \n",
    "depth1, depth2 = ' 0', ' 5728'\n",
    "fname = ' Sec'                     # plot filename (.html)\n",
    "exportData = ' 1'                   # export data in csv format (1/0: yes/no)\n",
    "###################################################################################################\n",
    "\n",
    "\n",
    "import os\n",
    "cmd = 'python' + script + tables + fields + startDate + lat1 \\\n",
    "      + lat2 + lon1 + lon2 + fname + exportData \\\n",
    "      + depth1 + depth2\n",
    "os.system(cmd)\n"
   ]
  }
 ],
 "metadata": {
  "kernelspec": {
   "display_name": "Python 2",
   "language": "python",
   "name": "python2"
  },
  "language_info": {
   "codemirror_mode": {
    "name": "ipython",
    "version": 2
   },
   "file_extension": ".py",
   "mimetype": "text/x-python",
   "name": "python",
   "nbconvert_exporter": "python",
   "pygments_lexer": "ipython2",
   "version": "2.7.13"
  }
 },
 "nbformat": 4,
 "nbformat_minor": 0
}
