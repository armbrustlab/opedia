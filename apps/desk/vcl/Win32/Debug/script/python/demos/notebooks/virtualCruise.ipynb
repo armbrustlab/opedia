{
 "cells": [
  {
   "cell_type": "markdown",
   "metadata": {},
   "source": [
    "# Virtual Cruise\n",
    "## Along Track SLA"
   ]
  },
  {
   "cell_type": "code",
   "execution_count": null,
   "metadata": {
    "collapsed": true
   },
   "outputs": [],
   "source": [
    "\n",
    "\n",
    "######################### setting arguments for a virtual cruise #########################\n",
    "script = ' ../../plotCruise.py'     # path to plotCruise.py script\n",
    "expedition = ' 0'                   # fixed, keep it!  (1: expedition, 0: virtual cruise)\n",
    "command = ' 2'                      # fixed, keep it!\n",
    "source = ' ../../../../virtual_parity_scope_2.csv'              # path to virtual cruise track (needs time/lat/lon columns)\n",
    "cruise = ''                         # fixed, keep it!\n",
    "resample = ' H'                     # resample rate (H: hourly, 2H: 2hours period ..., 10T: 10 minute, D: daily)\n",
    "fname = ' AlongTrack'               # plot filename (.html)\n",
    "exportData = ' 1'                   # export data in csv format (1/0: yes/no)\n",
    "spatialMargin = ' 0.5'              # matching margin (in degrees)\n",
    "matchTable = ' tblAltimetry_REP'    # matching table name\n",
    "matchVar = ' sla'                   # matching var name\n",
    "extVar = ' ignore'                  # extra variable name ('hour' or 'depth', usually used for model outputs)\n",
    "extVarValue = ' ignore'             # extra variable value (usually used for model outputs)   \n",
    "extVar2 = ' ignore'                 # extra variable name ('hour' or 'depth', usually used for model outputs)\n",
    "extVarValue2 = ' ignore'            # extra variable value (usually used for model outputs) \n",
    "#########################################################################################\n",
    "\n",
    "\n",
    "import os\n",
    "cruise = ' ' + os.path.basename(source).split('.')[0]\n",
    "cmd = 'python' + script + expedition + command + source + cruise \\\n",
    "      + resample + fname + exportData + spatialMargin + matchTable \\\n",
    "      + matchVar + extVar + extVarValue + extVar2 + extVarValue2\n",
    "os.system(cmd)\n"
   ]
  }
 ],
 "metadata": {
  "kernelspec": {
   "display_name": "Python 2",
   "language": "python",
   "name": "python2"
  },
  "language_info": {
   "codemirror_mode": {
    "name": "ipython",
    "version": 2
   },
   "file_extension": ".py",
   "mimetype": "text/x-python",
   "name": "python",
   "nbconvert_exporter": "python",
   "pygments_lexer": "ipython2",
   "version": "2.7.13"
  }
 },
 "nbformat": 4,
 "nbformat_minor": 0
}
