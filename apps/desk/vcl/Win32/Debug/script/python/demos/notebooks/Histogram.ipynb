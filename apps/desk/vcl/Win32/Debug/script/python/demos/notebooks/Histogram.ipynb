{
 "cells": [
  {
   "cell_type": "markdown",
   "metadata": {},
   "source": [
    "# Fe & ADT (Absolute Dynamic Topography)"
   ]
  },
  {
   "cell_type": "code",
   "execution_count": 1,
   "metadata": {},
   "outputs": [
    {
     "data": {
      "text/plain": [
       "0"
      ]
     },
     "execution_count": 1,
     "metadata": {},
     "output_type": "execute_result"
    }
   ],
   "source": [
    "\n",
    "#########################################################################################\n",
    "script = ' ../../plotDist.py'      # path to plotDist.py script\n",
    "tables = ' tblAltimetry_REP,tblPisces_NRT'\n",
    "fields = ' adt,Fe'\n",
    "startDate, endDate = ' 2017-01-07', ' 2017-01-07'\n",
    "lat1, lat2, lon1, lon2 = ' 30.57', ' 35.21', ' -163.43', ' -156.17' \n",
    "fname = ' Dist'                     # plot filename (.html)\n",
    "exportData = ' 1'                   # export data in csv format (1/0: yes/no)\n",
    "extV, extVV, extV2, extVV2 = ' ignore,depth', ' ignore,0.494024991989', ' ignore,ignore', ' ignore,ignore'\n",
    "#########################################################################################\n",
    "\n",
    "\n",
    "\n",
    "import os\n",
    "cmd = 'python' + script + tables + fields + startDate + endDate \\\n",
    "      + lat1 + lat2 + lon1 + lon2 + fname \\\n",
    "      + exportData + extV + extVV + extV2 + extVV2\n",
    "os.system(cmd)\n"
   ]
  },
  {
   "cell_type": "markdown",
   "metadata": {},
   "source": [
    "# CHL (satellite)"
   ]
  },
  {
   "cell_type": "code",
   "execution_count": 3,
   "metadata": {},
   "outputs": [
    {
     "data": {
      "image/png": "[encoded data removed]",
      "text/plain": [
       "<matplotlib.figure.Figure at 0x513e320>"
      ]
     },
     "metadata": {},
     "output_type": "display_data"
    }
   ],
   "source": [
    "\n",
    "\n",
    "import sys\n",
    "sys.path.append('../../')\n",
    "import genericDist as gd\n",
    "import pandas as pd\n",
    "import matplotlib.pyplot as plt\n",
    "\n",
    "\n",
    "def hist(y):\n",
    "    plt.hist(y)\n",
    "    plt.show()\n",
    "\n",
    "\n",
    "table = 'tblCHL_OI_REP'\n",
    "field = 'chl'\n",
    "startDate, endDate = '2016-06-03', '2016-06-03'\n",
    "lat1, lat2, lon1, lon2 = 30.57, 35.21, -163.43, -156.17 \n",
    "extV, extVV, extV2, extVV2 = None, None, None, None\n",
    "y = gd.genericDist(table, field, startDate, endDate, lat1, lat2, lon1, lon2, extV, extV, extV2, extVV2)\n",
    "#y.to_csv('dist.csv', index=False)      # save data on disk\n",
    "hist(y[field])"
   ]
  },
  {
   "cell_type": "code",
   "execution_count": null,
   "metadata": {},
   "outputs": [],
   "source": []
  }
 ],
 "metadata": {
  "kernelspec": {
   "display_name": "Python 2",
   "language": "python",
   "name": "python2"
  },
  "language_info": {
   "codemirror_mode": {
    "name": "ipython",
    "version": 2
   },
   "file_extension": ".py",
   "mimetype": "text/x-python",
   "name": "python",
   "nbconvert_exporter": "python",
   "pygments_lexer": "ipython2",
   "version": "2.7.14"
  }
 },
 "nbformat": 4,
 "nbformat_minor": 1
}
