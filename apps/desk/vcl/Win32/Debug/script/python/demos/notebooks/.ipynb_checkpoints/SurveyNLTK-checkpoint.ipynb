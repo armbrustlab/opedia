{
 "cells": [
  {
   "cell_type": "code",
   "execution_count": 1,
   "metadata": {},
   "outputs": [],
   "source": [
    "import pandas as pd\n",
    "from nltk.tokenize import  word_tokenize\n",
    "from nltk.corpus import stopwords\n",
    "from nltk.tokenize import RegexpTokenizer\n",
    "from nltk import FreqDist\n",
    "import matplotlib.pyplot as plt\n",
    "from wordcloud import WordCloud, STOPWORDS"
   ]
  },
  {
   "cell_type": "code",
   "execution_count": 2,
   "metadata": {
    "collapsed": true
   },
   "outputs": [],
   "source": [
    "survey = pd.read_csv('SimonsFoundationSurvey.csv')\n",
    "#survey = survey[survey['Title/role in the research group']=='PI']"
   ]
  },
  {
   "cell_type": "code",
   "execution_count": 3,
   "metadata": {
    "collapsed": true
   },
   "outputs": [],
   "source": [
    "def freq(survey, ind):\n",
    "    usingDataSets = ''\n",
    "    for i in range(len(survey.iloc[:, ind])):\n",
    "        #if str(survey.iloc[int(i), ind]).lower() == 'nan':\n",
    "        #    continue\n",
    "        usingDataSets = usingDataSets + ' ' + str(survey.iloc[i, ind])\n",
    "    stop_words = set(stopwords.words('english'))\n",
    "    tokenizer = RegexpTokenizer(r'\\w+')\n",
    "    usingDataSets = tokenizer.tokenize(usingDataSets)\n",
    "    usingDataSets = ' '.join(usingDataSets)\n",
    "    tokens = word_tokenize(usingDataSets) \n",
    "    filtered = [w for w in tokens if not w in stop_words]    \n",
    "    tokens = filtered\n",
    "    fd = FreqDist(tokens)\n",
    "    plt.clf()\n",
    "    fig = plt.figure()\n",
    "    plt.title(survey.columns.values[ind])\n",
    "    fd.plot(30,cumulative=False)  \n",
    "    plt.tight_layout()\n",
    "    fig.savefig('freqDist.png', dpi=600)\n",
    "    \n",
    "    plt.clf()\n",
    "    text = usingDataSets\n",
    "    stopws = set(STOPWORDS)\n",
    "    plt.figure()\n",
    "    wordcloud = WordCloud(background_color='white', random_state=20, stopwords=stopws).generate(text)\n",
    "    plt.imshow(wordcloud, interpolation='bilinear')\n",
    "    plt.axis(\"off\")\n",
    "    plt.savefig('cloud.png', dpi=600)\n",
    "    "
   ]
  },
  {
   "cell_type": "code",
   "execution_count": 4,
   "metadata": {
    "collapsed": true
   },
   "outputs": [],
   "source": [
    "def qs():\n",
    "    for i in range(len(survey.columns.values)):\n",
    "        print(i, survey.columns.values[i])"
   ]
  },
  {
   "cell_type": "code",
   "execution_count": 5,
   "metadata": {},
   "outputs": [
    {
     "data": {
      "text/plain": [
       "<matplotlib.figure.Figure at 0x1a0d516c50>"
      ]
     },
     "metadata": {},
     "output_type": "display_data"
    },
    {
     "data": {
      "image/png": "[encoded data removed]",
      "text/plain": [
       "<matplotlib.figure.Figure at 0x10664a450>"
      ]
     },
     "metadata": {},
     "output_type": "display_data"
    }
   ],
   "source": [
    "freq(survey, 10)"
   ]
  },
  {
   "cell_type": "code",
   "execution_count": 6,
   "metadata": {},
   "outputs": [
    {
     "name": "stdout",
     "output_type": "stream",
     "text": [
      "(0, 'Timestamp')\n",
      "(1, 'Name')\n",
      "(2, 'Which research group are you affiliated with?')\n",
      "(3, 'Title/role in the research group')\n",
      "(4, 'How many years have you been in this role?')\n",
      "(5, 'In what field(s) did you receive your degree(s)?')\n",
      "(6, 'What are the source(s) of the datasets you use in your research?')\n",
      "(7, 'Approximate size of largest datasets you produce in your research')\n",
      "(8, 'What types of datasets do you produce in your research?')\n",
      "(9, 'Does your research also make use of publicly available data (e.g., available through BCO-DMO, SeaDAS, NCBI)?')\n",
      "(10, 'if yes, please name dataset/data source')\n",
      "(11, 'Does your research make use of datasets available only to select groups?')\n",
      "(12, 'If yes, please describe')\n",
      "(13, 'Does your research make use of datasets that you pay to use (e.g., KEGG, Plankton Recorder)?')\n",
      "(14, 'If yes, please describe.1')\n",
      "(15, \"Are there publicly available datasets that would be helpful for your research but that you can't currently use?\")\n",
      "(16, 'If yes, name the datasets')\n",
      "(17, 'If yes, what limits your ability to use these datasets?')\n",
      "(18, 'If yes, what functionality could help you effectively use these datasets?')\n",
      "(19, 'Often, data generated by an instrument must be pre-processed before it can be used as input for data analysis. If you perform such conversions for your work, do they require non-open source (proprietary or commercial) software to do so? ')\n",
      "(20, 'If yes, where in the process is this non-open source software used?')\n",
      "(21, 'Describe any processing steps you use that require a non-automated, subjective evaluation (e.g., you look at outputs and validate/reject or you edit data by hand).')\n",
      "(22, 'How do you capture the inputs, decisions, results of these steps?')\n",
      "(23, 'What types of datasets from different sources have you tried to merge or combine?')\n",
      "(24, 'What challenges have you faced when you try to integrate these datasets from multiple sources?')\n",
      "(25, 'What would help you overcome these challenges?')\n",
      "(26, 'How do you analyze the datasets generated above?')\n",
      "(27, 'How do you visualize the results?')\n",
      "(28, 'How do you record inputs/parameters/outputs of analysis steps?')\n",
      "(29, 'Do you sometimes need to rerun the same analysis at a later date?')\n",
      "(30, 'If yes, what specific challenges do you face when trying to run the same analyses at a later date?')\n",
      "(31, 'Do you sometimes need to run or reproduce other people\\xe2\\x80\\x99s analyses?')\n",
      "(32, 'If yes, what specific challenges do you face when trying to run or reproduce other people\\xe2\\x80\\x99s analyses?')\n",
      "(33, 'What type challenges have you faced when collaborating with others (both in your group and in other groups) on the analysis of datasets?')\n",
      "(34, 'What tools have you used to try to overcome such challenges?')\n",
      "(35, 'What shortcomings did you find with the different collaboration tools?')\n",
      "(36, \"Core functions should include (don't worry about how these functions would be accomplished): [Top priority]\")\n",
      "(37, \"Core functions should include (don't worry about how these functions would be accomplished): [Medium priority]\")\n",
      "(38, \"Core functions should include (don't worry about how these functions would be accomplished): [Low priority]\")\n",
      "(39, 'Are there specific functions that are essential for the system to be useful for your work? ')\n",
      "(40, 'If so, please describe the essential functions.')\n",
      "(41, 'Is there any other functionality that you would like to be included? ')\n",
      "(42, 'If yes, please describe.2')\n",
      "(43, 'What kind of information should be included? [Top priority]')\n",
      "(44, 'What kind of information should be included? [Medium priority]')\n",
      "(45, 'What kind of information should be included? [Low Priority]')\n",
      "(46, 'Should all contents be immediately publicly available?')\n",
      "(47, 'If no, what should remain private and why?')\n",
      "(48, 'Should individual datasets have the option to remain private for a defined period of time?')\n",
      "(49, 'If yes, why and for how long?')\n",
      "(50, 'What other things should we have asked about?')\n",
      "(51, 'Unnamed: 51')\n",
      "(52, 'Unnamed: 52')\n",
      "(53, 'Unnamed: 53')\n",
      "(54, 'Unnamed: 54')\n",
      "(55, 'Unnamed: 55')\n",
      "(56, 'Unnamed: 56')\n",
      "(57, 'Unnamed: 57')\n",
      "(58, 'Unnamed: 58')\n"
     ]
    }
   ],
   "source": [
    "qs()"
   ]
  }
 ],
 "metadata": {
  "kernelspec": {
   "display_name": "Python 2",
   "language": "python",
   "name": "python2"
  },
  "language_info": {
   "codemirror_mode": {
    "name": "ipython",
    "version": 2
   },
   "file_extension": ".py",
   "mimetype": "text/x-python",
   "name": "python",
   "nbconvert_exporter": "python",
   "pygments_lexer": "ipython2",
   "version": "2.7.14"
  }
 },
 "nbformat": 4,
 "nbformat_minor": 2
}
